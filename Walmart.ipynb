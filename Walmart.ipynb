

import pandas as pd
import numpy as np
import matplotlib.pyplot as plt


#Some Basic Analysis

train_data = pd.read_csv("train.csv")

train_data.info() 
#Missing Values from 'UPC', 'DepartmentDescription', 'FinelineNumber'

train_data['Weekday'].value_counts().plot(kind='bar') # Saturday and Sunday

