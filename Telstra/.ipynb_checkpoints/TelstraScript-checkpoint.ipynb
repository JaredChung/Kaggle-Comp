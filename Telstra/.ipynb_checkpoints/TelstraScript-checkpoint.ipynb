{
 "cells": [
  {
   "cell_type": "markdown",
   "metadata": {},
   "source": [
    "# Telstra Kaggle Competition"
   ]
  },
  {
   "cell_type": "code",
   "execution_count": 9,
   "metadata": {
    "collapsed": false
   },
   "outputs": [],
   "source": [
    "%matplotlib inline\n",
    "import pandas as pd\n",
    "import numpy as np\n",
    "import matplotlib.pyplot as plt"
   ]
  },
  {
   "cell_type": "code",
   "execution_count": 6,
   "metadata": {
    "collapsed": false,
    "scrolled": false
   },
   "outputs": [
    {
     "name": "stdout",
     "output_type": "stream",
     "text": [
      " Volume in drive C is OS\n",
      " Volume Serial Number is 761C-04F8\n",
      "\n",
      " Directory of C:\\Users\\JChung\\Desktop\\kaggle comp\\telstra\n",
      "\n",
      "01/12/2015  03:27 PM    <DIR>          .\n",
      "01/12/2015  03:27 PM    <DIR>          ..\n",
      "30/11/2015  02:06 PM    <DIR>          .ipynb_checkpoints\n",
      "22/09/2015  11:41 AM           604,547 event_type.csv\n",
      "21/09/2015  05:57 PM         1,137,312 log_feature.csv\n",
      "22/09/2015  11:41 AM           451,101 resource_type.csv\n",
      "21/09/2015  05:57 PM           397,055 severity_type.csv\n",
      "01/12/2015  03:27 PM            16,522 Telstra Notebook.ipynb\n",
      "21/09/2015  05:57 PM           206,541 test.csv\n",
      "21/09/2015  05:57 PM           151,234 train.csv\n",
      "               7 File(s)      2,964,312 bytes\n",
      "               3 Dir(s)  143,717,199,872 bytes free\n"
     ]
    }
   ],
   "source": [
    "ls"
   ]
  },
  {
   "cell_type": "code",
   "execution_count": 66,
   "metadata": {
    "collapsed": false
   },
   "outputs": [],
   "source": [
    "train = pd.read_csv(\"train.csv\",index_col=0)\n",
    "test = pd.read_csv(\"test.csv\",index_col=0)"
   ]
  },
  {
   "cell_type": "code",
   "execution_count": 71,
   "metadata": {
    "collapsed": false
   },
   "outputs": [
    {
     "data": {
      "text/html": [
       "<div>\n",
       "<table border=\"1\" class=\"dataframe\">\n",
       "  <thead>\n",
       "    <tr style=\"text-align: right;\">\n",
       "      <th></th>\n",
       "      <th>location</th>\n",
       "    </tr>\n",
       "    <tr>\n",
       "      <th>id</th>\n",
       "      <th></th>\n",
       "    </tr>\n",
       "  </thead>\n",
       "  <tbody>\n",
       "    <tr>\n",
       "      <th>2</th>\n",
       "      <td>location 474</td>\n",
       "    </tr>\n",
       "    <tr>\n",
       "      <th>3</th>\n",
       "      <td>location 64</td>\n",
       "    </tr>\n",
       "    <tr>\n",
       "      <th>4</th>\n",
       "      <td>location 645</td>\n",
       "    </tr>\n",
       "    <tr>\n",
       "      <th>7</th>\n",
       "      <td>location 638</td>\n",
       "    </tr>\n",
       "    <tr>\n",
       "      <th>9</th>\n",
       "      <td>location 1100</td>\n",
       "    </tr>\n",
       "  </tbody>\n",
       "</table>\n",
       "</div>"
      ],
      "text/plain": [
       "         location\n",
       "id               \n",
       "2    location 474\n",
       "3     location 64\n",
       "4    location 645\n",
       "7    location 638\n",
       "9   location 1100"
      ]
     },
     "execution_count": 71,
     "metadata": {},
     "output_type": "execute_result"
    }
   ],
   "source": [
    "test.sort_index().head()"
   ]
  },
  {
   "cell_type": "code",
   "execution_count": 24,
   "metadata": {
    "collapsed": false,
    "scrolled": false
   },
   "outputs": [
    {
     "data": {
      "text/html": [
       "<div>\n",
       "<table border=\"1\" class=\"dataframe\">\n",
       "  <thead>\n",
       "    <tr style=\"text-align: right;\">\n",
       "      <th></th>\n",
       "      <th>location</th>\n",
       "      <th>fault_severity</th>\n",
       "    </tr>\n",
       "    <tr>\n",
       "      <th>id</th>\n",
       "      <th></th>\n",
       "      <th></th>\n",
       "    </tr>\n",
       "  </thead>\n",
       "  <tbody>\n",
       "    <tr>\n",
       "      <th>1</th>\n",
       "      <td>location 601</td>\n",
       "      <td>1</td>\n",
       "    </tr>\n",
       "    <tr>\n",
       "      <th>5</th>\n",
       "      <td>location 460</td>\n",
       "      <td>0</td>\n",
       "    </tr>\n",
       "    <tr>\n",
       "      <th>6</th>\n",
       "      <td>location 332</td>\n",
       "      <td>1</td>\n",
       "    </tr>\n",
       "    <tr>\n",
       "      <th>8</th>\n",
       "      <td>location 243</td>\n",
       "      <td>0</td>\n",
       "    </tr>\n",
       "    <tr>\n",
       "      <th>13</th>\n",
       "      <td>location 418</td>\n",
       "      <td>0</td>\n",
       "    </tr>\n",
       "  </tbody>\n",
       "</table>\n",
       "</div>"
      ],
      "text/plain": [
       "        location  fault_severity\n",
       "id                              \n",
       "1   location 601               1\n",
       "5   location 460               0\n",
       "6   location 332               1\n",
       "8   location 243               0\n",
       "13  location 418               0"
      ]
     },
     "execution_count": 24,
     "metadata": {},
     "output_type": "execute_result"
    }
   ],
   "source": [
    "train.sort_index().head()"
   ]
  },
  {
   "cell_type": "code",
   "execution_count": null,
   "metadata": {
    "collapsed": true
   },
   "outputs": [],
   "source": [
    "def preprocessing(x):\n",
    "    \n",
    "    "
   ]
  },
  {
   "cell_type": "code",
   "execution_count": 31,
   "metadata": {
    "collapsed": false
   },
   "outputs": [],
   "source": [
    "eventType = pd.read_csv(\"event_type.csv\", index_col=0)\n",
    "eventTypeVectorized = pd.get_dummies(event_type).groupby(event_type.index).sum()\n",
    "severityType = pd.read_csv('severity_type.csv', index_col=0)\n",
    "severityTypeVectorized = pd.get_dummies(severityType).groupby(severityType.index).sum()\n",
    "logFeature = pd.read_csv('log_feature.csv', index_col=0)\n",
    "logFeatureVectorized = pd.get_dummies(logFeature).groupby(logFeature.index).sum()\n",
    "resourceType = pd.read_csv('resource_type.csv', index_col=0)\n",
    "resourceTypeVectorized = pd.get_dummies(resourceType).groupby(resourceType.index).sum()\n",
    "mergedTables = train.join(eventTypeVectorized).join(severityTypeVectorized).join(logFeatureVectorized).join(resourceTypeVectorized)"
   ]
  },
  {
   "cell_type": "code",
   "execution_count": 37,
   "metadata": {
    "collapsed": false,
    "scrolled": false
   },
   "outputs": [
    {
     "data": {
      "text/html": [
       "<div>\n",
       "<table border=\"1\" class=\"dataframe\">\n",
       "  <thead>\n",
       "    <tr style=\"text-align: right;\">\n",
       "      <th></th>\n",
       "      <th>location</th>\n",
       "      <th>fault_severity</th>\n",
       "      <th>event_type_event_type 1</th>\n",
       "      <th>event_type_event_type 10</th>\n",
       "      <th>event_type_event_type 11</th>\n",
       "      <th>event_type_event_type 12</th>\n",
       "      <th>event_type_event_type 13</th>\n",
       "      <th>event_type_event_type 14</th>\n",
       "      <th>event_type_event_type 15</th>\n",
       "      <th>event_type_event_type 17</th>\n",
       "      <th>...</th>\n",
       "      <th>resource_type_resource_type 1</th>\n",
       "      <th>resource_type_resource_type 10</th>\n",
       "      <th>resource_type_resource_type 2</th>\n",
       "      <th>resource_type_resource_type 3</th>\n",
       "      <th>resource_type_resource_type 4</th>\n",
       "      <th>resource_type_resource_type 5</th>\n",
       "      <th>resource_type_resource_type 6</th>\n",
       "      <th>resource_type_resource_type 7</th>\n",
       "      <th>resource_type_resource_type 8</th>\n",
       "      <th>resource_type_resource_type 9</th>\n",
       "    </tr>\n",
       "    <tr>\n",
       "      <th>id</th>\n",
       "      <th></th>\n",
       "      <th></th>\n",
       "      <th></th>\n",
       "      <th></th>\n",
       "      <th></th>\n",
       "      <th></th>\n",
       "      <th></th>\n",
       "      <th></th>\n",
       "      <th></th>\n",
       "      <th></th>\n",
       "      <th></th>\n",
       "      <th></th>\n",
       "      <th></th>\n",
       "      <th></th>\n",
       "      <th></th>\n",
       "      <th></th>\n",
       "      <th></th>\n",
       "      <th></th>\n",
       "      <th></th>\n",
       "      <th></th>\n",
       "      <th></th>\n",
       "    </tr>\n",
       "  </thead>\n",
       "  <tbody>\n",
       "    <tr>\n",
       "      <th>14121</th>\n",
       "      <td>location 118</td>\n",
       "      <td>1</td>\n",
       "      <td>0</td>\n",
       "      <td>0</td>\n",
       "      <td>0</td>\n",
       "      <td>0</td>\n",
       "      <td>0</td>\n",
       "      <td>0</td>\n",
       "      <td>0</td>\n",
       "      <td>0</td>\n",
       "      <td>...</td>\n",
       "      <td>0</td>\n",
       "      <td>0</td>\n",
       "      <td>1</td>\n",
       "      <td>0</td>\n",
       "      <td>0</td>\n",
       "      <td>0</td>\n",
       "      <td>0</td>\n",
       "      <td>0</td>\n",
       "      <td>0</td>\n",
       "      <td>0</td>\n",
       "    </tr>\n",
       "    <tr>\n",
       "      <th>9320</th>\n",
       "      <td>location 91</td>\n",
       "      <td>0</td>\n",
       "      <td>0</td>\n",
       "      <td>0</td>\n",
       "      <td>0</td>\n",
       "      <td>0</td>\n",
       "      <td>0</td>\n",
       "      <td>0</td>\n",
       "      <td>0</td>\n",
       "      <td>0</td>\n",
       "      <td>...</td>\n",
       "      <td>0</td>\n",
       "      <td>0</td>\n",
       "      <td>1</td>\n",
       "      <td>0</td>\n",
       "      <td>0</td>\n",
       "      <td>0</td>\n",
       "      <td>0</td>\n",
       "      <td>0</td>\n",
       "      <td>0</td>\n",
       "      <td>0</td>\n",
       "    </tr>\n",
       "    <tr>\n",
       "      <th>14394</th>\n",
       "      <td>location 152</td>\n",
       "      <td>1</td>\n",
       "      <td>0</td>\n",
       "      <td>0</td>\n",
       "      <td>0</td>\n",
       "      <td>0</td>\n",
       "      <td>0</td>\n",
       "      <td>0</td>\n",
       "      <td>0</td>\n",
       "      <td>0</td>\n",
       "      <td>...</td>\n",
       "      <td>0</td>\n",
       "      <td>0</td>\n",
       "      <td>1</td>\n",
       "      <td>0</td>\n",
       "      <td>0</td>\n",
       "      <td>0</td>\n",
       "      <td>0</td>\n",
       "      <td>0</td>\n",
       "      <td>0</td>\n",
       "      <td>0</td>\n",
       "    </tr>\n",
       "    <tr>\n",
       "      <th>8218</th>\n",
       "      <td>location 931</td>\n",
       "      <td>1</td>\n",
       "      <td>0</td>\n",
       "      <td>0</td>\n",
       "      <td>1</td>\n",
       "      <td>0</td>\n",
       "      <td>0</td>\n",
       "      <td>0</td>\n",
       "      <td>1</td>\n",
       "      <td>0</td>\n",
       "      <td>...</td>\n",
       "      <td>0</td>\n",
       "      <td>0</td>\n",
       "      <td>0</td>\n",
       "      <td>0</td>\n",
       "      <td>0</td>\n",
       "      <td>0</td>\n",
       "      <td>0</td>\n",
       "      <td>0</td>\n",
       "      <td>1</td>\n",
       "      <td>0</td>\n",
       "    </tr>\n",
       "    <tr>\n",
       "      <th>14804</th>\n",
       "      <td>location 120</td>\n",
       "      <td>0</td>\n",
       "      <td>0</td>\n",
       "      <td>0</td>\n",
       "      <td>1</td>\n",
       "      <td>0</td>\n",
       "      <td>0</td>\n",
       "      <td>0</td>\n",
       "      <td>0</td>\n",
       "      <td>0</td>\n",
       "      <td>...</td>\n",
       "      <td>0</td>\n",
       "      <td>0</td>\n",
       "      <td>1</td>\n",
       "      <td>0</td>\n",
       "      <td>0</td>\n",
       "      <td>0</td>\n",
       "      <td>0</td>\n",
       "      <td>0</td>\n",
       "      <td>1</td>\n",
       "      <td>0</td>\n",
       "    </tr>\n",
       "  </tbody>\n",
       "</table>\n",
       "<p>5 rows × 457 columns</p>\n",
       "</div>"
      ],
      "text/plain": [
       "           location  fault_severity  event_type_event_type 1  \\\n",
       "id                                                             \n",
       "14121  location 118               1                        0   \n",
       "9320    location 91               0                        0   \n",
       "14394  location 152               1                        0   \n",
       "8218   location 931               1                        0   \n",
       "14804  location 120               0                        0   \n",
       "\n",
       "       event_type_event_type 10  event_type_event_type 11  \\\n",
       "id                                                          \n",
       "14121                         0                         0   \n",
       "9320                          0                         0   \n",
       "14394                         0                         0   \n",
       "8218                          0                         1   \n",
       "14804                         0                         1   \n",
       "\n",
       "       event_type_event_type 12  event_type_event_type 13  \\\n",
       "id                                                          \n",
       "14121                         0                         0   \n",
       "9320                          0                         0   \n",
       "14394                         0                         0   \n",
       "8218                          0                         0   \n",
       "14804                         0                         0   \n",
       "\n",
       "       event_type_event_type 14  event_type_event_type 15  \\\n",
       "id                                                          \n",
       "14121                         0                         0   \n",
       "9320                          0                         0   \n",
       "14394                         0                         0   \n",
       "8218                          0                         1   \n",
       "14804                         0                         0   \n",
       "\n",
       "       event_type_event_type 17              ...                \\\n",
       "id                                           ...                 \n",
       "14121                         0              ...                 \n",
       "9320                          0              ...                 \n",
       "14394                         0              ...                 \n",
       "8218                          0              ...                 \n",
       "14804                         0              ...                 \n",
       "\n",
       "       resource_type_resource_type 1  resource_type_resource_type 10  \\\n",
       "id                                                                     \n",
       "14121                              0                               0   \n",
       "9320                               0                               0   \n",
       "14394                              0                               0   \n",
       "8218                               0                               0   \n",
       "14804                              0                               0   \n",
       "\n",
       "       resource_type_resource_type 2  resource_type_resource_type 3  \\\n",
       "id                                                                    \n",
       "14121                              1                              0   \n",
       "9320                               1                              0   \n",
       "14394                              1                              0   \n",
       "8218                               0                              0   \n",
       "14804                              1                              0   \n",
       "\n",
       "       resource_type_resource_type 4  resource_type_resource_type 5  \\\n",
       "id                                                                    \n",
       "14121                              0                              0   \n",
       "9320                               0                              0   \n",
       "14394                              0                              0   \n",
       "8218                               0                              0   \n",
       "14804                              0                              0   \n",
       "\n",
       "       resource_type_resource_type 6  resource_type_resource_type 7  \\\n",
       "id                                                                    \n",
       "14121                              0                              0   \n",
       "9320                               0                              0   \n",
       "14394                              0                              0   \n",
       "8218                               0                              0   \n",
       "14804                              0                              0   \n",
       "\n",
       "       resource_type_resource_type 8  resource_type_resource_type 9  \n",
       "id                                                                   \n",
       "14121                              0                              0  \n",
       "9320                               0                              0  \n",
       "14394                              0                              0  \n",
       "8218                               1                              0  \n",
       "14804                              1                              0  \n",
       "\n",
       "[5 rows x 457 columns]"
      ]
     },
     "execution_count": 37,
     "metadata": {},
     "output_type": "execute_result"
    }
   ],
   "source": [
    "mergedTables.head()"
   ]
  },
  {
   "cell_type": "code",
   "execution_count": 38,
   "metadata": {
    "collapsed": true
   },
   "outputs": [],
   "source": [
    "#Lets try Logistic Regression\n",
    "from sklearn.linear_model import LogisticRegression"
   ]
  },
  {
   "cell_type": "code",
   "execution_count": 59,
   "metadata": {
    "collapsed": false
   },
   "outputs": [],
   "source": [
    "X = pd.get_dummies(mergedTables)\n",
    "X = X.drop('fault_severity',axis=1)\n",
    "Y = mergedTables.fault_severity"
   ]
  },
  {
   "cell_type": "code",
   "execution_count": 65,
   "metadata": {
    "collapsed": false
   },
   "outputs": [
    {
     "data": {
      "text/plain": [
       "array([1, 0, 1, ..., 2, 0, 0], dtype=int64)"
      ]
     },
     "execution_count": 65,
     "metadata": {},
     "output_type": "execute_result"
    }
   ],
   "source": [
    "Y.values"
   ]
  },
  {
   "cell_type": "code",
   "execution_count": 61,
   "metadata": {
    "collapsed": false,
    "scrolled": true
   },
   "outputs": [
    {
     "data": {
      "text/plain": [
       "(7381L,)"
      ]
     },
     "execution_count": 61,
     "metadata": {},
     "output_type": "execute_result"
    }
   ],
   "source": [
    "Y.shape"
   ]
  },
  {
   "cell_type": "code",
   "execution_count": 57,
   "metadata": {
    "collapsed": false,
    "scrolled": true
   },
   "outputs": [
    {
     "data": {
      "text/plain": [
       "(7381, 1385)"
      ]
     },
     "execution_count": 57,
     "metadata": {},
     "output_type": "execute_result"
    }
   ],
   "source": [
    "log = LogisticRegression()\n",
    "log.fit(X,Y)\n",
    "y_pred = log.predict()"
   ]
  },
  {
   "cell_type": "code",
   "execution_count": null,
   "metadata": {
    "collapsed": true
   },
   "outputs": [],
   "source": []
  },
  {
   "cell_type": "code",
   "execution_count": null,
   "metadata": {
    "collapsed": true
   },
   "outputs": [],
   "source": []
  }
 ],
 "metadata": {
  "kernelspec": {
   "display_name": "Python 2",
   "language": "python",
   "name": "python2"
  },
  "language_info": {
   "codemirror_mode": {
    "name": "ipython",
    "version": 2
   },
   "file_extension": ".py",
   "mimetype": "text/x-python",
   "name": "python",
   "nbconvert_exporter": "python",
   "pygments_lexer": "ipython2",
   "version": "2.7.10"
  }
 },
 "nbformat": 4,
 "nbformat_minor": 0
}
